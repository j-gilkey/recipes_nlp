{
 "cells": [
  {
   "cell_type": "code",
   "execution_count": 1,
   "metadata": {},
   "outputs": [
    {
     "name": "stderr",
     "output_type": "stream",
     "text": [
      "[nltk_data] Downloading package stopwords to\n",
      "[nltk_data]     /Users/agorina/nltk_data...\n",
      "[nltk_data]   Package stopwords is already up-to-date!\n",
      "[nltk_data] Downloading package punkt to /Users/agorina/nltk_data...\n",
      "[nltk_data]   Package punkt is already up-to-date!\n",
      "[nltk_data] Downloading package wordnet to /Users/agorina/nltk_data...\n",
      "[nltk_data]   Package wordnet is already up-to-date!\n"
     ]
    },
    {
     "data": {
      "text/plain": [
       "True"
      ]
     },
     "execution_count": 1,
     "metadata": {},
     "output_type": "execute_result"
    }
   ],
   "source": [
    "import pandas as pd\n",
    "import seaborn as sns\n",
    "import matplotlib.pyplot as plt\n",
    "%matplotlib inline\n",
    "import numpy as np\n",
    "import nltk\n",
    "from sklearn.feature_extraction.text import CountVectorizer\n",
    "from sklearn.feature_extraction.text import TfidfVectorizer\n",
    "from sklearn.feature_extraction.text import TfidfTransformer\n",
    "from nltk.probability import FreqDist\n",
    "from nltk.corpus import stopwords\n",
    "from nltk.stem import PorterStemmer\n",
    "from sklearn.metrics import confusion_matrix\n",
    "import seaborn as sns\n",
    "from sklearn.naive_bayes import MultinomialNB\n",
    "from sklearn import metrics\n",
    "from sklearn.model_selection import train_test_split\n",
    "from matplotlib import cm\n",
    "import numpy as np\n",
    "from sklearn.ensemble import RandomForestClassifier\n",
    "from sklearn.metrics import accuracy_score\n",
    "from sklearn.metrics import f1_score\n",
    "from sklearn.naive_bayes import MultinomialNB\n",
    "\n",
    "nltk.download('stopwords')\n",
    "nltk.download('punkt')\n",
    "nltk.download('wordnet')"
   ]
  },
  {
   "cell_type": "code",
   "execution_count": 69,
   "metadata": {},
   "outputs": [],
   "source": [
    "from nltk.tokenize import RegexpTokenizer\n",
    "from nltk.stem import WordNetLemmatizer "
   ]
  },
  {
   "cell_type": "code",
   "execution_count": 2,
   "metadata": {},
   "outputs": [],
   "source": [
    "df = pd.read_csv('/Users/agorina/Desktop/Flatiron/all_ingredients_ddna.csv')\n",
    "df.drop('Unnamed: 0', axis=1, inplace=True)"
   ]
  },
  {
   "cell_type": "code",
   "execution_count": 3,
   "metadata": {},
   "outputs": [
    {
     "data": {
      "text/html": [
       "<div>\n",
       "<style scoped>\n",
       "    .dataframe tbody tr th:only-of-type {\n",
       "        vertical-align: middle;\n",
       "    }\n",
       "\n",
       "    .dataframe tbody tr th {\n",
       "        vertical-align: top;\n",
       "    }\n",
       "\n",
       "    .dataframe thead th {\n",
       "        text-align: right;\n",
       "    }\n",
       "</style>\n",
       "<table border=\"1\" class=\"dataframe\">\n",
       "  <thead>\n",
       "    <tr style=\"text-align: right;\">\n",
       "      <th></th>\n",
       "      <th>Ingredients</th>\n",
       "      <th>Cuisine</th>\n",
       "    </tr>\n",
       "  </thead>\n",
       "  <tbody>\n",
       "    <tr>\n",
       "      <td>0</td>\n",
       "      <td>1 pound pork butt, cut into 1 inch cubes 1 tea...</td>\n",
       "      <td>1</td>\n",
       "    </tr>\n",
       "    <tr>\n",
       "      <td>1</td>\n",
       "      <td>1 pound flank steak, thinly sliced 5 tablespoo...</td>\n",
       "      <td>1</td>\n",
       "    </tr>\n",
       "    <tr>\n",
       "      <td>2</td>\n",
       "      <td>4 cups chicken broth, divided 1/8 teaspoon gro...</td>\n",
       "      <td>1</td>\n",
       "    </tr>\n",
       "    <tr>\n",
       "      <td>3</td>\n",
       "      <td>1 1/2 pounds beef top sirloin, thinly sliced 1...</td>\n",
       "      <td>1</td>\n",
       "    </tr>\n",
       "    <tr>\n",
       "      <td>4</td>\n",
       "      <td>1 pound round steak 4 tablespoons soy sauce 4 ...</td>\n",
       "      <td>1</td>\n",
       "    </tr>\n",
       "  </tbody>\n",
       "</table>\n",
       "</div>"
      ],
      "text/plain": [
       "                                         Ingredients  Cuisine\n",
       "0  1 pound pork butt, cut into 1 inch cubes 1 tea...        1\n",
       "1  1 pound flank steak, thinly sliced 5 tablespoo...        1\n",
       "2  4 cups chicken broth, divided 1/8 teaspoon gro...        1\n",
       "3  1 1/2 pounds beef top sirloin, thinly sliced 1...        1\n",
       "4  1 pound round steak 4 tablespoons soy sauce 4 ...        1"
      ]
     },
     "execution_count": 3,
     "metadata": {},
     "output_type": "execute_result"
    }
   ],
   "source": [
    "df.head()"
   ]
  },
  {
   "cell_type": "code",
   "execution_count": 4,
   "metadata": {},
   "outputs": [
    {
     "data": {
      "text/plain": [
       "(181, 2)"
      ]
     },
     "execution_count": 4,
     "metadata": {},
     "output_type": "execute_result"
    }
   ],
   "source": [
    "df.shape"
   ]
  },
  {
   "cell_type": "code",
   "execution_count": 9,
   "metadata": {},
   "outputs": [],
   "source": [
    "from nltk.tokenize import RegexpTokenizer"
   ]
  },
  {
   "cell_type": "code",
   "execution_count": 9,
   "metadata": {},
   "outputs": [],
   "source": [
    "test_rec = df.loc['0': 'Ingredients']"
   ]
  },
  {
   "cell_type": "code",
   "execution_count": 11,
   "metadata": {},
   "outputs": [],
   "source": [
    "test_string = '1 pound pork butt, cut into 1 inch cubes 1 teaspoon salt 1/4 teaspoon white sugar 1 teaspoon soy sauce 1 egg white 2 green onions, chopped 1 quart vegetable oil for frying 1/2 cup cornstarch 1 tablespoon vegetable oil 3 stalks celery, cut into 1/2 inch pieces 1 medium green bell pepper, cut into 1 inch pieces 1 medium onion, cut into wedges white sugar to taste salt to taste 1 cup water 1/4 teaspoon salt 3/4 cup white sugar 1/3 cup apple cider vinegar 1/4 cup ketchup 1/2 teaspoon soy sauce 1 (8 ounce) can pineapple chunks, undrained 2 tablespoons cornstarch 1/4 cup water Add all ingredients to list'"
   ]
  },
  {
   "cell_type": "code",
   "execution_count": 12,
   "metadata": {},
   "outputs": [
    {
     "data": {
      "text/plain": [
       "'1 pound pork butt, cut into 1 inch cubes 1 teaspoon salt 1/4 teaspoon white sugar 1 teaspoon soy sauce 1 egg white 2 green onions, chopped 1 quart vegetable oil for frying 1/2 cup cornstarch 1 tablespoon vegetable oil 3 stalks celery, cut into 1/2 inch pieces 1 medium green bell pepper, cut into 1 inch pieces 1 medium onion, cut into wedges white sugar to taste salt to taste 1 cup water 1/4 teaspoon salt 3/4 cup white sugar 1/3 cup apple cider vinegar 1/4 cup ketchup 1/2 teaspoon soy sauce 1 (8 ounce) can pineapple chunks, undrained 2 tablespoons cornstarch 1/4 cup water Add all ingredients to list'"
      ]
     },
     "execution_count": 12,
     "metadata": {},
     "output_type": "execute_result"
    }
   ],
   "source": [
    "test_string"
   ]
  },
  {
   "cell_type": "code",
   "execution_count": 17,
   "metadata": {},
   "outputs": [
    {
     "data": {
      "text/plain": [
       "['1',\n",
       " 'pound',\n",
       " 'pork',\n",
       " 'butt',\n",
       " 'cut',\n",
       " 'into',\n",
       " '1',\n",
       " 'inch',\n",
       " 'cubes',\n",
       " '1',\n",
       " 'teaspoon',\n",
       " 'salt',\n",
       " '1',\n",
       " '4',\n",
       " 'teaspoon',\n",
       " 'white',\n",
       " 'sugar',\n",
       " '1',\n",
       " 'teaspoon',\n",
       " 'soy',\n",
       " 'sauce',\n",
       " '1',\n",
       " 'egg',\n",
       " 'white',\n",
       " '2',\n",
       " 'green',\n",
       " 'onions',\n",
       " 'chopped',\n",
       " '1',\n",
       " 'quart',\n",
       " 'vegetable',\n",
       " 'oil',\n",
       " 'for',\n",
       " 'frying',\n",
       " '1',\n",
       " '2',\n",
       " 'cup',\n",
       " 'cornstarch',\n",
       " '1',\n",
       " 'tablespoon',\n",
       " 'vegetable',\n",
       " 'oil',\n",
       " '3',\n",
       " 'stalks',\n",
       " 'celery',\n",
       " 'cut',\n",
       " 'into',\n",
       " '1',\n",
       " '2',\n",
       " 'inch',\n",
       " 'pieces',\n",
       " '1',\n",
       " 'medium',\n",
       " 'green',\n",
       " 'bell',\n",
       " 'pepper',\n",
       " 'cut',\n",
       " 'into',\n",
       " '1',\n",
       " 'inch',\n",
       " 'pieces',\n",
       " '1',\n",
       " 'medium',\n",
       " 'onion',\n",
       " 'cut',\n",
       " 'into',\n",
       " 'wedges',\n",
       " 'white',\n",
       " 'sugar',\n",
       " 'to',\n",
       " 'taste',\n",
       " 'salt',\n",
       " 'to',\n",
       " 'taste',\n",
       " '1',\n",
       " 'cup',\n",
       " 'water',\n",
       " '1',\n",
       " '4',\n",
       " 'teaspoon',\n",
       " 'salt',\n",
       " '3',\n",
       " '4',\n",
       " 'cup',\n",
       " 'white',\n",
       " 'sugar',\n",
       " '1',\n",
       " '3',\n",
       " 'cup',\n",
       " 'apple',\n",
       " 'cider',\n",
       " 'vinegar',\n",
       " '1',\n",
       " '4',\n",
       " 'cup',\n",
       " 'ketchup',\n",
       " '1',\n",
       " '2',\n",
       " 'teaspoon',\n",
       " 'soy',\n",
       " 'sauce',\n",
       " '1',\n",
       " '8',\n",
       " 'ounce',\n",
       " 'can',\n",
       " 'pineapple',\n",
       " 'chunks',\n",
       " 'undrained',\n",
       " '2',\n",
       " 'tablespoons',\n",
       " 'cornstarch',\n",
       " '1',\n",
       " '4',\n",
       " 'cup',\n",
       " 'water',\n",
       " 'Add',\n",
       " 'all',\n",
       " 'ingredients',\n",
       " 'to',\n",
       " 'list']"
      ]
     },
     "execution_count": 17,
     "metadata": {},
     "output_type": "execute_result"
    }
   ],
   "source": [
    "tokenizer = RegexpTokenizer(r'[a-zA-Z0-9]+')\n",
    "tokenized_string = tokenizer.tokenize(test_string)\n",
    "tokenized_string"
   ]
  },
  {
   "cell_type": "code",
   "execution_count": 18,
   "metadata": {},
   "outputs": [],
   "source": [
    "def filtered(string):\n",
    "    stop_words=set(stopwords.words(\"english\"))\n",
    "    filtered_string = [word for word in string if word not in stop_words]\n",
    "    \n",
    "    return filtered_string"
   ]
  },
  {
   "cell_type": "code",
   "execution_count": 20,
   "metadata": {},
   "outputs": [],
   "source": [
    "filtered_string = filtered(tokenized_string)"
   ]
  },
  {
   "cell_type": "code",
   "execution_count": 21,
   "metadata": {},
   "outputs": [
    {
     "name": "stdout",
     "output_type": "stream",
     "text": [
      "120\n",
      "110\n"
     ]
    }
   ],
   "source": [
    "print(len(tokenized_string))\n",
    "print(len(filtered_string))"
   ]
  },
  {
   "cell_type": "code",
   "execution_count": 22,
   "metadata": {},
   "outputs": [],
   "source": [
    "def lower(string):\n",
    "    lowered_string = [word.lower() for word in string]\n",
    "    return lowered_string"
   ]
  },
  {
   "cell_type": "code",
   "execution_count": 23,
   "metadata": {},
   "outputs": [],
   "source": [
    "lowered_string = lower(filtered_string)"
   ]
  },
  {
   "cell_type": "code",
   "execution_count": 24,
   "metadata": {},
   "outputs": [
    {
     "data": {
      "text/plain": [
       "['1',\n",
       " 'pound',\n",
       " 'pork',\n",
       " 'butt',\n",
       " 'cut',\n",
       " '1',\n",
       " 'inch',\n",
       " 'cubes',\n",
       " '1',\n",
       " 'teaspoon',\n",
       " 'salt',\n",
       " '1',\n",
       " '4',\n",
       " 'teaspoon',\n",
       " 'white',\n",
       " 'sugar',\n",
       " '1',\n",
       " 'teaspoon',\n",
       " 'soy',\n",
       " 'sauce',\n",
       " '1',\n",
       " 'egg',\n",
       " 'white',\n",
       " '2',\n",
       " 'green',\n",
       " 'onions',\n",
       " 'chopped',\n",
       " '1',\n",
       " 'quart',\n",
       " 'vegetable',\n",
       " 'oil',\n",
       " 'frying',\n",
       " '1',\n",
       " '2',\n",
       " 'cup',\n",
       " 'cornstarch',\n",
       " '1',\n",
       " 'tablespoon',\n",
       " 'vegetable',\n",
       " 'oil',\n",
       " '3',\n",
       " 'stalks',\n",
       " 'celery',\n",
       " 'cut',\n",
       " '1',\n",
       " '2',\n",
       " 'inch',\n",
       " 'pieces',\n",
       " '1',\n",
       " 'medium',\n",
       " 'green',\n",
       " 'bell',\n",
       " 'pepper',\n",
       " 'cut',\n",
       " '1',\n",
       " 'inch',\n",
       " 'pieces',\n",
       " '1',\n",
       " 'medium',\n",
       " 'onion',\n",
       " 'cut',\n",
       " 'wedges',\n",
       " 'white',\n",
       " 'sugar',\n",
       " 'taste',\n",
       " 'salt',\n",
       " 'taste',\n",
       " '1',\n",
       " 'cup',\n",
       " 'water',\n",
       " '1',\n",
       " '4',\n",
       " 'teaspoon',\n",
       " 'salt',\n",
       " '3',\n",
       " '4',\n",
       " 'cup',\n",
       " 'white',\n",
       " 'sugar',\n",
       " '1',\n",
       " '3',\n",
       " 'cup',\n",
       " 'apple',\n",
       " 'cider',\n",
       " 'vinegar',\n",
       " '1',\n",
       " '4',\n",
       " 'cup',\n",
       " 'ketchup',\n",
       " '1',\n",
       " '2',\n",
       " 'teaspoon',\n",
       " 'soy',\n",
       " 'sauce',\n",
       " '1',\n",
       " '8',\n",
       " 'ounce',\n",
       " 'pineapple',\n",
       " 'chunks',\n",
       " 'undrained',\n",
       " '2',\n",
       " 'tablespoons',\n",
       " 'cornstarch',\n",
       " '1',\n",
       " '4',\n",
       " 'cup',\n",
       " 'water',\n",
       " 'add',\n",
       " 'ingredients',\n",
       " 'list']"
      ]
     },
     "execution_count": 24,
     "metadata": {},
     "output_type": "execute_result"
    }
   ],
   "source": [
    "lowered_string"
   ]
  },
  {
   "cell_type": "code",
   "execution_count": 32,
   "metadata": {},
   "outputs": [],
   "source": [
    "def custom_stop(string):\n",
    "    custom_stop_words = ['1','2', '3', '4', '5', '6', '7', '8', '9', 'inch', 'ounce', 'pound', 'teaspoon', 'tablespoon', 'cup', 'small', 'medium', 'large']\n",
    "    cleaned_string = [word for word in string if word not in custom_stop_words]\n",
    "    \n",
    "    return cleaned_string #len(cleaned_string)"
   ]
  },
  {
   "cell_type": "code",
   "execution_count": 35,
   "metadata": {},
   "outputs": [
    {
     "data": {
      "text/plain": [
       "['pork',\n",
       " 'butt',\n",
       " 'cut',\n",
       " 'cubes',\n",
       " 'salt',\n",
       " 'white',\n",
       " 'sugar',\n",
       " 'soy',\n",
       " 'sauce',\n",
       " 'egg',\n",
       " 'white',\n",
       " 'green',\n",
       " 'onions',\n",
       " 'chopped',\n",
       " 'quart',\n",
       " 'vegetable',\n",
       " 'oil',\n",
       " 'frying',\n",
       " 'cornstarch',\n",
       " 'vegetable',\n",
       " 'oil',\n",
       " 'stalks',\n",
       " 'celery',\n",
       " 'cut',\n",
       " 'pieces',\n",
       " 'green',\n",
       " 'bell',\n",
       " 'pepper',\n",
       " 'cut',\n",
       " 'pieces',\n",
       " 'onion',\n",
       " 'cut',\n",
       " 'wedges',\n",
       " 'white',\n",
       " 'sugar',\n",
       " 'taste',\n",
       " 'salt',\n",
       " 'taste',\n",
       " 'water',\n",
       " 'salt',\n",
       " 'white',\n",
       " 'sugar',\n",
       " 'apple',\n",
       " 'cider',\n",
       " 'vinegar',\n",
       " 'ketchup',\n",
       " 'soy',\n",
       " 'sauce',\n",
       " 'pineapple',\n",
       " 'chunks',\n",
       " 'undrained',\n",
       " 'tablespoons',\n",
       " 'cornstarch',\n",
       " 'water',\n",
       " 'add',\n",
       " 'ingredients',\n",
       " 'list']"
      ]
     },
     "execution_count": 35,
     "metadata": {},
     "output_type": "execute_result"
    }
   ],
   "source": [
    "cleaned_string = custom_stop(lowered_string)\n",
    "cleaned_string"
   ]
  },
  {
   "cell_type": "code",
   "execution_count": 36,
   "metadata": {},
   "outputs": [
    {
     "data": {
      "image/png": "[encoded data removed]",
      "text/plain": [
       "<Figure size 720x720 with 1 Axes>"
      ]
     },
     "metadata": {
      "needs_background": "light"
     },
     "output_type": "display_data"
    },
    {
     "data": {
      "text/plain": [
       "<matplotlib.axes._subplots.AxesSubplot at 0x1a1a9cf6d0>"
      ]
     },
     "execution_count": 36,
     "metadata": {},
     "output_type": "execute_result"
    }
   ],
   "source": [
    "fdist = FreqDist(cleaned_string)\n",
    "plt.figure(figsize=(10,10))\n",
    "fdist.plot()"
   ]
  },
  {
   "cell_type": "code",
   "execution_count": 74,
   "metadata": {},
   "outputs": [],
   "source": [
    "def clean_strings(string):\n",
    "    #tokenize\n",
    "    tokenizer = RegexpTokenizer(r'[a-zA-Z]+')\n",
    "    tokenized_string = tokenizer.tokenize(string)\n",
    "    \n",
    "    #lower\n",
    "    lowered_string = [word.lower() for word in tokenized_string]\n",
    "    \n",
    "    #lemmatization\n",
    "    lemmatizer = WordNetLemmatizer() \n",
    "    lemmatized_string = [lemmatizer.lemmatize(word) for word in lowered_string]\n",
    "    \n",
    "    #filter stop words\n",
    "    stop_words=set(stopwords.words(\"english\"))\n",
    "    filtered_string = [word for word in lemmatized_string if word not in stop_words]\n",
    "   \n",
    "    #remove custom stop words\n",
    "    custom_stop_words = ['inch', 'ounce', 'pound', 'teaspoon', 'tablespoon', 'cup', 'small', 'medium', 'large']\n",
    "    cleaned_string = [word for word in filtered_string if word not in custom_stop_words]\n",
    "    \n",
    "    return cleaned_string"
   ]
  },
  {
   "cell_type": "code",
   "execution_count": 75,
   "metadata": {},
   "outputs": [],
   "source": [
    "new_test_string = '1 1/2 pounds beef top sirloin, thinly sliced 1/3 cup white sugar 1/3 cup rice wine vinegar 2 tablespoons frozen orange juice concentrate 1 teaspoon salt 1 tablespoon soy sauce 1 cup long grain rice 2 cups water 1/4 cup cornstarch 2 teaspoons orange zest 3 tablespoons grated fresh ginger 1 1/2 tablespoons minced garlic 8 broccoli florets, lightly steamed or blanched 2 cups oil for frying Add all ingredients to list'\n",
    "cleaned_new_string = clean_strings(new_test_string)"
   ]
  },
  {
   "cell_type": "code",
   "execution_count": 76,
   "metadata": {},
   "outputs": [
    {
     "data": {
      "text/plain": [
       "['beef',\n",
       " 'top',\n",
       " 'sirloin',\n",
       " 'thinly',\n",
       " 'sliced',\n",
       " 'white',\n",
       " 'sugar',\n",
       " 'rice',\n",
       " 'wine',\n",
       " 'vinegar',\n",
       " 'frozen',\n",
       " 'orange',\n",
       " 'juice',\n",
       " 'concentrate',\n",
       " 'salt',\n",
       " 'soy',\n",
       " 'sauce',\n",
       " 'long',\n",
       " 'grain',\n",
       " 'rice',\n",
       " 'water',\n",
       " 'cornstarch',\n",
       " 'orange',\n",
       " 'zest',\n",
       " 'grated',\n",
       " 'fresh',\n",
       " 'ginger',\n",
       " 'minced',\n",
       " 'garlic',\n",
       " 'broccoli',\n",
       " 'floret',\n",
       " 'lightly',\n",
       " 'steamed',\n",
       " 'blanched',\n",
       " 'oil',\n",
       " 'frying',\n",
       " 'add',\n",
       " 'ingredient',\n",
       " 'list']"
      ]
     },
     "execution_count": 76,
     "metadata": {},
     "output_type": "execute_result"
    }
   ],
   "source": [
    "cleaned_new_string"
   ]
  },
  {
   "cell_type": "code",
   "execution_count": 77,
   "metadata": {},
   "outputs": [],
   "source": [
    "def plot_word_dist(string):\n",
    "    fdist = FreqDist(string)\n",
    "    plt.figure(figsize=(10,10))\n",
    "    fdist.plot()"
   ]
  },
  {
   "cell_type": "code",
   "execution_count": 78,
   "metadata": {},
   "outputs": [
    {
     "data": {
      "image/png": "[encoded data removed]",
      "text/plain": [
       "<Figure size 720x720 with 1 Axes>"
      ]
     },
     "metadata": {
      "needs_background": "light"
     },
     "output_type": "display_data"
    }
   ],
   "source": [
    "plot_word_dist(cleaned_new_string)"
   ]
  },
  {
   "cell_type": "code",
   "execution_count": 79,
   "metadata": {},
   "outputs": [
    {
     "data": {
      "text/plain": [
       "'1 onion, peeled and halved3 cups dry pinto beans, rinsed1/2 fresh jalapeno pepper, seeded and chopped2 tablespoons minced garlic5 teaspoons salt1 3/4 teaspoons fresh ground black pepper1/8 teaspoon ground cumin, optional9 cups waterAdd all ingredients to list'"
      ]
     },
     "execution_count": 79,
     "metadata": {},
     "output_type": "execute_result"
    }
   ],
   "source": [
    "mexican_string = '1 onion, peeled and halved3 cups dry pinto beans, rinsed1/2 fresh jalapeno pepper, seeded and chopped2 tablespoons minced garlic5 teaspoons salt1 3/4 teaspoons fresh ground black pepper1/8 teaspoon ground cumin, optional9 cups waterAdd all ingredients to list'\n",
    "mexican_string"
   ]
  },
  {
   "cell_type": "code",
   "execution_count": 80,
   "metadata": {},
   "outputs": [
    {
     "data": {
      "text/plain": [
       "['onion',\n",
       " 'peeled',\n",
       " 'halved',\n",
       " 'dry',\n",
       " 'pinto',\n",
       " 'bean',\n",
       " 'rinsed',\n",
       " 'fresh',\n",
       " 'jalapeno',\n",
       " 'pepper',\n",
       " 'seeded',\n",
       " 'chopped',\n",
       " 'minced',\n",
       " 'garlic',\n",
       " 'salt',\n",
       " 'fresh',\n",
       " 'ground',\n",
       " 'black',\n",
       " 'pepper',\n",
       " 'ground',\n",
       " 'cumin',\n",
       " 'optional',\n",
       " 'wateradd',\n",
       " 'ingredient',\n",
       " 'list']"
      ]
     },
     "execution_count": 80,
     "metadata": {},
     "output_type": "execute_result"
    }
   ],
   "source": [
    "cleaned_mexican_string = clean_strings(mexican_string)\n",
    "cleaned_mexican_string"
   ]
  },
  {
   "cell_type": "code",
   "execution_count": 81,
   "metadata": {},
   "outputs": [
    {
     "data": {
      "image/png": "[encoded data removed]",
      "text/plain": [
       "<Figure size 720x720 with 1 Axes>"
      ]
     },
     "metadata": {
      "needs_background": "light"
     },
     "output_type": "display_data"
    }
   ],
   "source": [
    "plot_word_dist(cleaned_mexican_string)"
   ]
  },
  {
   "cell_type": "code",
   "execution_count": null,
   "metadata": {},
   "outputs": [],
   "source": [
    "bbc_df = pd.read_csv('/Users/agorina/Desktop/Flatiron/recipes_nlp/overall_bbc.csv')"
   ]
  },
  {
   "cell_type": "code",
   "execution_count": 85,
   "metadata": {},
   "outputs": [],
   "source": [
    "bbc_df.rename(columns={'recipe': 'Ingredients', 'type': 'Cuisine'}, inplace=True)\n",
    "#df.rename(columns={\"A\": \"a\", \"B\": \"c\"})"
   ]
  },
  {
   "cell_type": "code",
   "execution_count": 86,
   "metadata": {},
   "outputs": [
    {
     "data": {
      "text/html": [
       "<div>\n",
       "<style scoped>\n",
       "    .dataframe tbody tr th:only-of-type {\n",
       "        vertical-align: middle;\n",
       "    }\n",
       "\n",
       "    .dataframe tbody tr th {\n",
       "        vertical-align: top;\n",
       "    }\n",
       "\n",
       "    .dataframe thead th {\n",
       "        text-align: right;\n",
       "    }\n",
       "</style>\n",
       "<table border=\"1\" class=\"dataframe\">\n",
       "  <thead>\n",
       "    <tr style=\"text-align: right;\">\n",
       "      <th></th>\n",
       "      <th>Ingredients</th>\n",
       "      <th>Cuisine</th>\n",
       "    </tr>\n",
       "  </thead>\n",
       "  <tbody>\n",
       "    <tr>\n",
       "      <td>0</td>\n",
       "      <td>25cm/10in sponge (cut from a large bought flan...</td>\n",
       "      <td>6</td>\n",
       "    </tr>\n",
       "    <tr>\n",
       "      <td>1</td>\n",
       "      <td>500g/1lb 2oz sausagemeat 450g/1lb self-raising...</td>\n",
       "      <td>6</td>\n",
       "    </tr>\n",
       "    <tr>\n",
       "      <td>2</td>\n",
       "      <td>450g/1lb self-raising flour 1 tsp baking powde...</td>\n",
       "      <td>6</td>\n",
       "    </tr>\n",
       "    <tr>\n",
       "      <td>3</td>\n",
       "      <td>175g/6oz plain flour 1 tsp baking powder 25g/1...</td>\n",
       "      <td>6</td>\n",
       "    </tr>\n",
       "    <tr>\n",
       "      <td>4</td>\n",
       "      <td>125g/4½oz plain flour 300g/10½oz caster sugar ...</td>\n",
       "      <td>6</td>\n",
       "    </tr>\n",
       "  </tbody>\n",
       "</table>\n",
       "</div>"
      ],
      "text/plain": [
       "                                         Ingredients  Cuisine\n",
       "0  25cm/10in sponge (cut from a large bought flan...        6\n",
       "1  500g/1lb 2oz sausagemeat 450g/1lb self-raising...        6\n",
       "2  450g/1lb self-raising flour 1 tsp baking powde...        6\n",
       "3  175g/6oz plain flour 1 tsp baking powder 25g/1...        6\n",
       "4  125g/4½oz plain flour 300g/10½oz caster sugar ...        6"
      ]
     },
     "execution_count": 86,
     "metadata": {},
     "output_type": "execute_result"
    }
   ],
   "source": [
    "bbc_df.head()"
   ]
  },
  {
   "cell_type": "code",
   "execution_count": 88,
   "metadata": {},
   "outputs": [],
   "source": [
    "frames = [bbc_df, df]\n",
    "bigdf = pd.concat(frames, ignore_index=True)"
   ]
  },
  {
   "cell_type": "code",
   "execution_count": 89,
   "metadata": {},
   "outputs": [
    {
     "data": {
      "text/plain": [
       "(2413, 2)"
      ]
     },
     "execution_count": 89,
     "metadata": {},
     "output_type": "execute_result"
    }
   ],
   "source": [
    "df.shape"
   ]
  },
  {
   "cell_type": "code",
   "execution_count": 91,
   "metadata": {},
   "outputs": [
    {
     "data": {
      "text/plain": [
       "(2413, 2)"
      ]
     },
     "execution_count": 91,
     "metadata": {},
     "output_type": "execute_result"
    }
   ],
   "source": [
    "ddf = bigdf.drop_duplicates('Ingredients')\n",
    "ddf.shape"
   ]
  },
  {
   "cell_type": "code",
   "execution_count": 92,
   "metadata": {},
   "outputs": [
    {
     "data": {
      "text/html": [
       "<div>\n",
       "<style scoped>\n",
       "    .dataframe tbody tr th:only-of-type {\n",
       "        vertical-align: middle;\n",
       "    }\n",
       "\n",
       "    .dataframe tbody tr th {\n",
       "        vertical-align: top;\n",
       "    }\n",
       "\n",
       "    .dataframe thead th {\n",
       "        text-align: right;\n",
       "    }\n",
       "</style>\n",
       "<table border=\"1\" class=\"dataframe\">\n",
       "  <thead>\n",
       "    <tr style=\"text-align: right;\">\n",
       "      <th></th>\n",
       "      <th>Ingredients</th>\n",
       "      <th>Cuisine</th>\n",
       "    </tr>\n",
       "  </thead>\n",
       "  <tbody>\n",
       "    <tr>\n",
       "      <td>0</td>\n",
       "      <td>25cm/10in sponge (cut from a large bought flan...</td>\n",
       "      <td>6</td>\n",
       "    </tr>\n",
       "    <tr>\n",
       "      <td>1</td>\n",
       "      <td>500g/1lb 2oz sausagemeat 450g/1lb self-raising...</td>\n",
       "      <td>6</td>\n",
       "    </tr>\n",
       "    <tr>\n",
       "      <td>2</td>\n",
       "      <td>450g/1lb self-raising flour 1 tsp baking powde...</td>\n",
       "      <td>6</td>\n",
       "    </tr>\n",
       "    <tr>\n",
       "      <td>3</td>\n",
       "      <td>175g/6oz plain flour 1 tsp baking powder 25g/1...</td>\n",
       "      <td>6</td>\n",
       "    </tr>\n",
       "    <tr>\n",
       "      <td>4</td>\n",
       "      <td>125g/4½oz plain flour 300g/10½oz caster sugar ...</td>\n",
       "      <td>6</td>\n",
       "    </tr>\n",
       "  </tbody>\n",
       "</table>\n",
       "</div>"
      ],
      "text/plain": [
       "                                         Ingredients  Cuisine\n",
       "0  25cm/10in sponge (cut from a large bought flan...        6\n",
       "1  500g/1lb 2oz sausagemeat 450g/1lb self-raising...        6\n",
       "2  450g/1lb self-raising flour 1 tsp baking powde...        6\n",
       "3  175g/6oz plain flour 1 tsp baking powder 25g/1...        6\n",
       "4  125g/4½oz plain flour 300g/10½oz caster sugar ...        6"
      ]
     },
     "execution_count": 92,
     "metadata": {},
     "output_type": "execute_result"
    }
   ],
   "source": [
    "ddf.to_csv( '/Users/agorina/Desktop/Flatiron/big_dataframe.csv')"
   ]
  },
  {
   "cell_type": "code",
   "execution_count": 93,
   "metadata": {},
   "outputs": [
    {
     "data": {
      "text/plain": [
       "7     454\n",
       "3     436\n",
       "5     367\n",
       "9     299\n",
       "6     254\n",
       "8     157\n",
       "2     138\n",
       "11    128\n",
       "4      86\n",
       "1      32\n",
       "10     32\n",
       "12     30\n",
       "Name: Cuisine, dtype: int64"
      ]
     },
     "execution_count": 93,
     "metadata": {},
     "output_type": "execute_result"
    }
   ],
   "source": [
    "ddf['Cuisine'].value_counts()"
   ]
  },
  {
   "cell_type": "code",
   "execution_count": 95,
   "metadata": {},
   "outputs": [
    {
     "data": {
      "text/plain": [
       "<matplotlib.axes._subplots.AxesSubplot at 0x1a2057c1d0>"
      ]
     },
     "execution_count": 95,
     "metadata": {},
     "output_type": "execute_result"
    },
    {
     "data": {
      "image/png": "[encoded data removed]",
      "text/plain": [
       "<Figure size 432x288 with 1 Axes>"
      ]
     },
     "metadata": {
      "needs_background": "light"
     },
     "output_type": "display_data"
    }
   ],
   "source": [
    "ddf['Cuisine'].hist(bins=12)"
   ]
  },
  {
   "cell_type": "code",
   "execution_count": 96,
   "metadata": {},
   "outputs": [],
   "source": [
    "ddf = ddf[(ddf.Cuisine != 4) & (ddf.Cuisine != 1) & (ddf.Cuisine != 10) & (ddf.Cuisine != 12)]"
   ]
  },
  {
   "cell_type": "code",
   "execution_count": 98,
   "metadata": {},
   "outputs": [
    {
     "data": {
      "text/plain": [
       "(2233, 2)"
      ]
     },
     "execution_count": 98,
     "metadata": {},
     "output_type": "execute_result"
    }
   ],
   "source": [
    "ddf.shape"
   ]
  },
  {
   "cell_type": "code",
   "execution_count": 99,
   "metadata": {},
   "outputs": [],
   "source": [
    "ddf.to_csv(f'/Users/agorina/Desktop/Flatiron/bigdatasetrecipes.csv')"
   ]
  },
  {
   "cell_type": "code",
   "execution_count": 102,
   "metadata": {},
   "outputs": [
    {
     "name": "stderr",
     "output_type": "stream",
     "text": [
      "/Users/agorina/opt/anaconda3/lib/python3.7/site-packages/ipykernel_launcher.py:1: SettingWithCopyWarning: \n",
      "A value is trying to be set on a copy of a slice from a DataFrame\n",
      "\n",
      "See the caveats in the documentation: http://pandas.pydata.org/pandas-docs/stable/user_guide/indexing.html#returning-a-view-versus-a-copy\n",
      "  \"\"\"Entry point for launching an IPython kernel.\n"
     ]
    }
   ],
   "source": [
    "ddf.dropna(axis=0, inplace=True)"
   ]
  },
  {
   "cell_type": "code",
   "execution_count": 103,
   "metadata": {},
   "outputs": [],
   "source": [
    "def clean_strings(string):\n",
    "    #tokenize\n",
    "    tokenizer = RegexpTokenizer(r'[a-zA-Z]+')\n",
    "    tokenized_string = tokenizer.tokenize(string)\n",
    "    \n",
    "    #lower\n",
    "    lowered_string = [word.lower() for word in tokenized_string]\n",
    "    \n",
    "    #lemmatization\n",
    "    lemmatizer = WordNetLemmatizer() \n",
    "    lemmatized_string = [lemmatizer.lemmatize(word) for word in lowered_string]\n",
    "    \n",
    "    #filter stop words\n",
    "    stop_words=set(stopwords.words(\"english\"))\n",
    "    filtered_string = [word for word in lemmatized_string if word not in stop_words]\n",
    "   \n",
    "    #remove custom stop words\n",
    "    custom_stop_words = ['inch', 'ounce', 'pound', 'teaspoon', 'tablespoon', 'cup', 'small', 'medium', 'large']\n",
    "    cleaned_string = [word for word in filtered_string if word not in custom_stop_words]\n",
    "    \n",
    "    return cleaned_string"
   ]
  },
  {
   "cell_type": "code",
   "execution_count": 104,
   "metadata": {},
   "outputs": [
    {
     "name": "stderr",
     "output_type": "stream",
     "text": [
      "/Users/agorina/opt/anaconda3/lib/python3.7/site-packages/ipykernel_launcher.py:1: SettingWithCopyWarning: \n",
      "A value is trying to be set on a copy of a slice from a DataFrame.\n",
      "Try using .loc[row_indexer,col_indexer] = value instead\n",
      "\n",
      "See the caveats in the documentation: http://pandas.pydata.org/pandas-docs/stable/user_guide/indexing.html#returning-a-view-versus-a-copy\n",
      "  \"\"\"Entry point for launching an IPython kernel.\n"
     ]
    }
   ],
   "source": [
    "ddf['Ingredients'] = ddf.apply(lambda row: clean_strings(row['Ingredients']), axis=1)"
   ]
  },
  {
   "cell_type": "code",
   "execution_count": 109,
   "metadata": {},
   "outputs": [
    {
     "data": {
      "text/plain": [
       "7     454\n",
       "3     436\n",
       "5     367\n",
       "9     299\n",
       "6     254\n",
       "8     157\n",
       "2     137\n",
       "11    128\n",
       "Name: Cuisine, dtype: int64"
      ]
     },
     "execution_count": 109,
     "metadata": {},
     "output_type": "execute_result"
    }
   ],
   "source": [
    "ddf.Cuisine.value_counts()"
   ]
  },
  {
   "cell_type": "code",
   "execution_count": 110,
   "metadata": {},
   "outputs": [
    {
     "data": {
      "text/plain": [
       "(2232, 2)"
      ]
     },
     "execution_count": 110,
     "metadata": {},
     "output_type": "execute_result"
    }
   ],
   "source": [
    "ddf.shape"
   ]
  },
  {
   "cell_type": "code",
   "execution_count": 112,
   "metadata": {},
   "outputs": [
    {
     "data": {
      "text/html": [
       "<div>\n",
       "<style scoped>\n",
       "    .dataframe tbody tr th:only-of-type {\n",
       "        vertical-align: middle;\n",
       "    }\n",
       "\n",
       "    .dataframe tbody tr th {\n",
       "        vertical-align: top;\n",
       "    }\n",
       "\n",
       "    .dataframe thead th {\n",
       "        text-align: right;\n",
       "    }\n",
       "</style>\n",
       "<table border=\"1\" class=\"dataframe\">\n",
       "  <thead>\n",
       "    <tr style=\"text-align: right;\">\n",
       "      <th></th>\n",
       "      <th>Ingredients</th>\n",
       "      <th>Cuisine</th>\n",
       "    </tr>\n",
       "  </thead>\n",
       "  <tbody>\n",
       "    <tr>\n",
       "      <td>0</td>\n",
       "      <td>[cm, sponge, cut, bought, flan, case, g, oz, c...</td>\n",
       "      <td>6</td>\n",
       "    </tr>\n",
       "    <tr>\n",
       "      <td>1</td>\n",
       "      <td>[g, lb, oz, sausagemeat, g, lb, self, raising,...</td>\n",
       "      <td>6</td>\n",
       "    </tr>\n",
       "    <tr>\n",
       "      <td>2</td>\n",
       "      <td>[g, lb, self, raising, flour, tsp, baking, pow...</td>\n",
       "      <td>6</td>\n",
       "    </tr>\n",
       "    <tr>\n",
       "      <td>3</td>\n",
       "      <td>[g, oz, plain, flour, tsp, baking, powder, g, ...</td>\n",
       "      <td>6</td>\n",
       "    </tr>\n",
       "    <tr>\n",
       "      <td>4</td>\n",
       "      <td>[g, oz, plain, flour, g, oz, caster, sugar, fr...</td>\n",
       "      <td>6</td>\n",
       "    </tr>\n",
       "    <tr>\n",
       "      <td>...</td>\n",
       "      <td>...</td>\n",
       "      <td>...</td>\n",
       "    </tr>\n",
       "    <tr>\n",
       "      <td>4640</td>\n",
       "      <td>[black, bean, drained, rinsed, green, bell, pe...</td>\n",
       "      <td>6</td>\n",
       "    </tr>\n",
       "    <tr>\n",
       "      <td>4641</td>\n",
       "      <td>[bag, coleslaw, mix, diced, onion, creamy, sal...</td>\n",
       "      <td>6</td>\n",
       "    </tr>\n",
       "    <tr>\n",
       "      <td>4642</td>\n",
       "      <td>[warm, water, degree, f, degree, c, warm, milk...</td>\n",
       "      <td>6</td>\n",
       "    </tr>\n",
       "    <tr>\n",
       "      <td>4643</td>\n",
       "      <td>[sweet, potato, butter, softened, white, sugar...</td>\n",
       "      <td>6</td>\n",
       "    </tr>\n",
       "    <tr>\n",
       "      <td>4644</td>\n",
       "      <td>[vegetable, oil, pork, shoulder, roast, barbeq...</td>\n",
       "      <td>6</td>\n",
       "    </tr>\n",
       "  </tbody>\n",
       "</table>\n",
       "<p>2232 rows × 2 columns</p>\n",
       "</div>"
      ],
      "text/plain": [
       "                                            Ingredients  Cuisine\n",
       "0     [cm, sponge, cut, bought, flan, case, g, oz, c...        6\n",
       "1     [g, lb, oz, sausagemeat, g, lb, self, raising,...        6\n",
       "2     [g, lb, self, raising, flour, tsp, baking, pow...        6\n",
       "3     [g, oz, plain, flour, tsp, baking, powder, g, ...        6\n",
       "4     [g, oz, plain, flour, g, oz, caster, sugar, fr...        6\n",
       "...                                                 ...      ...\n",
       "4640  [black, bean, drained, rinsed, green, bell, pe...        6\n",
       "4641  [bag, coleslaw, mix, diced, onion, creamy, sal...        6\n",
       "4642  [warm, water, degree, f, degree, c, warm, milk...        6\n",
       "4643  [sweet, potato, butter, softened, white, sugar...        6\n",
       "4644  [vegetable, oil, pork, shoulder, roast, barbeq...        6\n",
       "\n",
       "[2232 rows x 2 columns]"
      ]
     },
     "execution_count": 112,
     "metadata": {},
     "output_type": "execute_result"
    }
   ],
   "source": [
    "ddf"
   ]
  },
  {
   "cell_type": "code",
   "execution_count": 115,
   "metadata": {},
   "outputs": [],
   "source": [
    "for value in ddf['Ingredients']:\n",
    "    ' '.join(value)"
   ]
  },
  {
   "cell_type": "code",
   "execution_count": 117,
   "metadata": {},
   "outputs": [
    {
     "name": "stderr",
     "output_type": "stream",
     "text": [
      "/Users/agorina/opt/anaconda3/lib/python3.7/site-packages/ipykernel_launcher.py:1: SettingWithCopyWarning: \n",
      "A value is trying to be set on a copy of a slice from a DataFrame.\n",
      "Try using .loc[row_indexer,col_indexer] = value instead\n",
      "\n",
      "See the caveats in the documentation: http://pandas.pydata.org/pandas-docs/stable/user_guide/indexing.html#returning-a-view-versus-a-copy\n",
      "  \"\"\"Entry point for launching an IPython kernel.\n"
     ]
    }
   ],
   "source": [
    "ddf['Ingredients'] = ddf.apply(lambda row: ' '.join(row['Ingredients']), axis=1)"
   ]
  },
  {
   "cell_type": "code",
   "execution_count": 118,
   "metadata": {},
   "outputs": [
    {
     "data": {
      "text/html": [
       "<div>\n",
       "<style scoped>\n",
       "    .dataframe tbody tr th:only-of-type {\n",
       "        vertical-align: middle;\n",
       "    }\n",
       "\n",
       "    .dataframe tbody tr th {\n",
       "        vertical-align: top;\n",
       "    }\n",
       "\n",
       "    .dataframe thead th {\n",
       "        text-align: right;\n",
       "    }\n",
       "</style>\n",
       "<table border=\"1\" class=\"dataframe\">\n",
       "  <thead>\n",
       "    <tr style=\"text-align: right;\">\n",
       "      <th></th>\n",
       "      <th>Ingredients</th>\n",
       "      <th>Cuisine</th>\n",
       "    </tr>\n",
       "  </thead>\n",
       "  <tbody>\n",
       "    <tr>\n",
       "      <td>0</td>\n",
       "      <td>cm sponge cut bought flan case g oz caster sug...</td>\n",
       "      <td>6</td>\n",
       "    </tr>\n",
       "    <tr>\n",
       "      <td>1</td>\n",
       "      <td>g lb oz sausagemeat g lb self raising flour ts...</td>\n",
       "      <td>6</td>\n",
       "    </tr>\n",
       "    <tr>\n",
       "      <td>2</td>\n",
       "      <td>g lb self raising flour tsp baking powder tsp ...</td>\n",
       "      <td>6</td>\n",
       "    </tr>\n",
       "    <tr>\n",
       "      <td>3</td>\n",
       "      <td>g oz plain flour tsp baking powder g oz caster...</td>\n",
       "      <td>6</td>\n",
       "    </tr>\n",
       "    <tr>\n",
       "      <td>4</td>\n",
       "      <td>g oz plain flour g oz caster sugar free range ...</td>\n",
       "      <td>6</td>\n",
       "    </tr>\n",
       "    <tr>\n",
       "      <td>...</td>\n",
       "      <td>...</td>\n",
       "      <td>...</td>\n",
       "    </tr>\n",
       "    <tr>\n",
       "      <td>4640</td>\n",
       "      <td>black bean drained rinsed green bell pepper cu...</td>\n",
       "      <td>6</td>\n",
       "    </tr>\n",
       "    <tr>\n",
       "      <td>4641</td>\n",
       "      <td>bag coleslaw mix diced onion creamy salad dres...</td>\n",
       "      <td>6</td>\n",
       "    </tr>\n",
       "    <tr>\n",
       "      <td>4642</td>\n",
       "      <td>warm water degree f degree c warm milk egg but...</td>\n",
       "      <td>6</td>\n",
       "    </tr>\n",
       "    <tr>\n",
       "      <td>4643</td>\n",
       "      <td>sweet potato butter softened white sugar milk ...</td>\n",
       "      <td>6</td>\n",
       "    </tr>\n",
       "    <tr>\n",
       "      <td>4644</td>\n",
       "      <td>vegetable oil pork shoulder roast barbeque sau...</td>\n",
       "      <td>6</td>\n",
       "    </tr>\n",
       "  </tbody>\n",
       "</table>\n",
       "<p>2232 rows × 2 columns</p>\n",
       "</div>"
      ],
      "text/plain": [
       "                                            Ingredients  Cuisine\n",
       "0     cm sponge cut bought flan case g oz caster sug...        6\n",
       "1     g lb oz sausagemeat g lb self raising flour ts...        6\n",
       "2     g lb self raising flour tsp baking powder tsp ...        6\n",
       "3     g oz plain flour tsp baking powder g oz caster...        6\n",
       "4     g oz plain flour g oz caster sugar free range ...        6\n",
       "...                                                 ...      ...\n",
       "4640  black bean drained rinsed green bell pepper cu...        6\n",
       "4641  bag coleslaw mix diced onion creamy salad dres...        6\n",
       "4642  warm water degree f degree c warm milk egg but...        6\n",
       "4643  sweet potato butter softened white sugar milk ...        6\n",
       "4644  vegetable oil pork shoulder roast barbeque sau...        6\n",
       "\n",
       "[2232 rows x 2 columns]"
      ]
     },
     "execution_count": 118,
     "metadata": {},
     "output_type": "execute_result"
    }
   ],
   "source": [
    "ddf"
   ]
  },
  {
   "cell_type": "code",
   "execution_count": 122,
   "metadata": {},
   "outputs": [],
   "source": [
    "def filter_stop(string):\n",
    "    stop = ['oz', 'lb', 'lbs', 'g', 'kg', 'gram', 'cm']\n",
    "    lst = [word for word in string if word not in stop]\n",
    "    new_st = ' '.join(lst)\n",
    "    return new_st"
   ]
  },
  {
   "cell_type": "code",
   "execution_count": 120,
   "metadata": {},
   "outputs": [
    {
     "name": "stderr",
     "output_type": "stream",
     "text": [
      "/Users/agorina/opt/anaconda3/lib/python3.7/site-packages/ipykernel_launcher.py:1: SettingWithCopyWarning: \n",
      "A value is trying to be set on a copy of a slice from a DataFrame.\n",
      "Try using .loc[row_indexer,col_indexer] = value instead\n",
      "\n",
      "See the caveats in the documentation: http://pandas.pydata.org/pandas-docs/stable/user_guide/indexing.html#returning-a-view-versus-a-copy\n",
      "  \"\"\"Entry point for launching an IPython kernel.\n"
     ]
    }
   ],
   "source": [
    "ddf['Ingredients'] = ddf.apply(lambda row: filter_stop(row['Ingredients']), axis=1)"
   ]
  },
  {
   "cell_type": "code",
   "execution_count": 123,
   "metadata": {},
   "outputs": [
    {
     "data": {
      "text/html": [
       "<div>\n",
       "<style scoped>\n",
       "    .dataframe tbody tr th:only-of-type {\n",
       "        vertical-align: middle;\n",
       "    }\n",
       "\n",
       "    .dataframe tbody tr th {\n",
       "        vertical-align: top;\n",
       "    }\n",
       "\n",
       "    .dataframe thead th {\n",
       "        text-align: right;\n",
       "    }\n",
       "</style>\n",
       "<table border=\"1\" class=\"dataframe\">\n",
       "  <thead>\n",
       "    <tr style=\"text-align: right;\">\n",
       "      <th></th>\n",
       "      <th>Ingredients</th>\n",
       "      <th>Cuisine</th>\n",
       "    </tr>\n",
       "  </thead>\n",
       "  <tbody>\n",
       "    <tr>\n",
       "      <td>0</td>\n",
       "      <td>None</td>\n",
       "      <td>6</td>\n",
       "    </tr>\n",
       "    <tr>\n",
       "      <td>1</td>\n",
       "      <td>None</td>\n",
       "      <td>6</td>\n",
       "    </tr>\n",
       "    <tr>\n",
       "      <td>2</td>\n",
       "      <td>None</td>\n",
       "      <td>6</td>\n",
       "    </tr>\n",
       "    <tr>\n",
       "      <td>3</td>\n",
       "      <td>None</td>\n",
       "      <td>6</td>\n",
       "    </tr>\n",
       "    <tr>\n",
       "      <td>4</td>\n",
       "      <td>None</td>\n",
       "      <td>6</td>\n",
       "    </tr>\n",
       "    <tr>\n",
       "      <td>...</td>\n",
       "      <td>...</td>\n",
       "      <td>...</td>\n",
       "    </tr>\n",
       "    <tr>\n",
       "      <td>4640</td>\n",
       "      <td>None</td>\n",
       "      <td>6</td>\n",
       "    </tr>\n",
       "    <tr>\n",
       "      <td>4641</td>\n",
       "      <td>None</td>\n",
       "      <td>6</td>\n",
       "    </tr>\n",
       "    <tr>\n",
       "      <td>4642</td>\n",
       "      <td>None</td>\n",
       "      <td>6</td>\n",
       "    </tr>\n",
       "    <tr>\n",
       "      <td>4643</td>\n",
       "      <td>None</td>\n",
       "      <td>6</td>\n",
       "    </tr>\n",
       "    <tr>\n",
       "      <td>4644</td>\n",
       "      <td>None</td>\n",
       "      <td>6</td>\n",
       "    </tr>\n",
       "  </tbody>\n",
       "</table>\n",
       "<p>2232 rows × 2 columns</p>\n",
       "</div>"
      ],
      "text/plain": [
       "     Ingredients  Cuisine\n",
       "0           None        6\n",
       "1           None        6\n",
       "2           None        6\n",
       "3           None        6\n",
       "4           None        6\n",
       "...          ...      ...\n",
       "4640        None        6\n",
       "4641        None        6\n",
       "4642        None        6\n",
       "4643        None        6\n",
       "4644        None        6\n",
       "\n",
       "[2232 rows x 2 columns]"
      ]
     },
     "execution_count": 123,
     "metadata": {},
     "output_type": "execute_result"
    }
   ],
   "source": [
    "ddf"
   ]
  },
  {
   "cell_type": "code",
   "execution_count": null,
   "metadata": {},
   "outputs": [],
   "source": []
  }
 ],
 "metadata": {
  "kernelspec": {
   "display_name": "Python 3",
   "language": "python",
   "name": "python3"
  },
  "language_info": {
   "codemirror_mode": {
    "name": "ipython",
    "version": 3
   },
   "file_extension": ".py",
   "mimetype": "text/x-python",
   "name": "python",
   "nbconvert_exporter": "python",
   "pygments_lexer": "ipython3",
   "version": "3.7.4"
  }
 },
 "nbformat": 4,
 "nbformat_minor": 2
}
